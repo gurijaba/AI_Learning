{
 "cells": [
  {
   "cell_type": "code",
   "execution_count": 1,
   "id": "06bda2eb",
   "metadata": {},
   "outputs": [
    {
     "name": "stdout",
     "output_type": "stream",
     "text": [
      "✅ Libraries imported successfully!\n"
     ]
    }
   ],
   "source": [
    "# House Price Prediction using Linear Regression\n",
    "\n",
    "# Step 1: Import Libraries\n",
    "import pandas as pd\n",
    "import numpy as np\n",
    "from sklearn.model_selection import train_test_split\n",
    "from sklearn.linear_model import LinearRegression\n",
    "from sklearn.metrics import mean_absolute_error, r2_score\n",
    "import matplotlib.pyplot as plt\n",
    "\n",
    "print(\"✅ Libraries imported successfully!\")"
   ]
  },
  {
   "cell_type": "code",
   "execution_count": 2,
   "id": "1624cbaf",
   "metadata": {},
   "outputs": [
    {
     "name": "stdout",
     "output_type": "stream",
     "text": [
      "Here's our dataset:\n"
     ]
    },
    {
     "data": {
      "text/html": [
       "<div>\n",
       "<style scoped>\n",
       "    .dataframe tbody tr th:only-of-type {\n",
       "        vertical-align: middle;\n",
       "    }\n",
       "\n",
       "    .dataframe tbody tr th {\n",
       "        vertical-align: top;\n",
       "    }\n",
       "\n",
       "    .dataframe thead th {\n",
       "        text-align: right;\n",
       "    }\n",
       "</style>\n",
       "<table border=\"1\" class=\"dataframe\">\n",
       "  <thead>\n",
       "    <tr style=\"text-align: right;\">\n",
       "      <th></th>\n",
       "      <th>Area</th>\n",
       "      <th>Bedrooms</th>\n",
       "      <th>Bathrooms</th>\n",
       "      <th>Floors</th>\n",
       "      <th>Location_Index</th>\n",
       "      <th>Price</th>\n",
       "    </tr>\n",
       "  </thead>\n",
       "  <tbody>\n",
       "    <tr>\n",
       "      <th>0</th>\n",
       "      <td>1000</td>\n",
       "      <td>2</td>\n",
       "      <td>1</td>\n",
       "      <td>1</td>\n",
       "      <td>1</td>\n",
       "      <td>200000</td>\n",
       "    </tr>\n",
       "    <tr>\n",
       "      <th>1</th>\n",
       "      <td>1500</td>\n",
       "      <td>3</td>\n",
       "      <td>2</td>\n",
       "      <td>1</td>\n",
       "      <td>2</td>\n",
       "      <td>250000</td>\n",
       "    </tr>\n",
       "    <tr>\n",
       "      <th>2</th>\n",
       "      <td>1800</td>\n",
       "      <td>3</td>\n",
       "      <td>2</td>\n",
       "      <td>2</td>\n",
       "      <td>2</td>\n",
       "      <td>280000</td>\n",
       "    </tr>\n",
       "    <tr>\n",
       "      <th>3</th>\n",
       "      <td>2400</td>\n",
       "      <td>4</td>\n",
       "      <td>3</td>\n",
       "      <td>2</td>\n",
       "      <td>3</td>\n",
       "      <td>350000</td>\n",
       "    </tr>\n",
       "    <tr>\n",
       "      <th>4</th>\n",
       "      <td>3000</td>\n",
       "      <td>4</td>\n",
       "      <td>3</td>\n",
       "      <td>2</td>\n",
       "      <td>3</td>\n",
       "      <td>400000</td>\n",
       "    </tr>\n",
       "    <tr>\n",
       "      <th>5</th>\n",
       "      <td>3500</td>\n",
       "      <td>5</td>\n",
       "      <td>3</td>\n",
       "      <td>3</td>\n",
       "      <td>4</td>\n",
       "      <td>450000</td>\n",
       "    </tr>\n",
       "    <tr>\n",
       "      <th>6</th>\n",
       "      <td>4000</td>\n",
       "      <td>5</td>\n",
       "      <td>4</td>\n",
       "      <td>3</td>\n",
       "      <td>4</td>\n",
       "      <td>500000</td>\n",
       "    </tr>\n",
       "    <tr>\n",
       "      <th>7</th>\n",
       "      <td>4500</td>\n",
       "      <td>6</td>\n",
       "      <td>4</td>\n",
       "      <td>3</td>\n",
       "      <td>5</td>\n",
       "      <td>550000</td>\n",
       "    </tr>\n",
       "    <tr>\n",
       "      <th>8</th>\n",
       "      <td>5000</td>\n",
       "      <td>6</td>\n",
       "      <td>5</td>\n",
       "      <td>3</td>\n",
       "      <td>5</td>\n",
       "      <td>600000</td>\n",
       "    </tr>\n",
       "    <tr>\n",
       "      <th>9</th>\n",
       "      <td>5500</td>\n",
       "      <td>7</td>\n",
       "      <td>5</td>\n",
       "      <td>4</td>\n",
       "      <td>5</td>\n",
       "      <td>650000</td>\n",
       "    </tr>\n",
       "  </tbody>\n",
       "</table>\n",
       "</div>"
      ],
      "text/plain": [
       "   Area  Bedrooms  Bathrooms  Floors  Location_Index   Price\n",
       "0  1000         2          1       1               1  200000\n",
       "1  1500         3          2       1               2  250000\n",
       "2  1800         3          2       2               2  280000\n",
       "3  2400         4          3       2               3  350000\n",
       "4  3000         4          3       2               3  400000\n",
       "5  3500         5          3       3               4  450000\n",
       "6  4000         5          4       3               4  500000\n",
       "7  4500         6          4       3               5  550000\n",
       "8  5000         6          5       3               5  600000\n",
       "9  5500         7          5       4               5  650000"
      ]
     },
     "metadata": {},
     "output_type": "display_data"
    }
   ],
   "source": [
    "# Step 2: Create the Dataset\n",
    "\n",
    "data = {\n",
    "    'Area': [1000, 1500, 1800, 2400, 3000, 3500, 4000, 4500, 5000, 5500],\n",
    "    'Bedrooms': [2, 3, 3, 4, 4, 5, 5, 6, 6, 7],\n",
    "    'Bathrooms': [1, 2, 2, 3, 3, 3, 4, 4, 5, 5],\n",
    "    'Floors': [1, 1, 2, 2, 2, 3, 3, 3, 3, 4],\n",
    "    'Location_Index': [1, 2, 2, 3, 3, 4, 4, 5, 5, 5],\n",
    "    'Price': [200000, 250000, 280000, 350000, 400000, 450000, 500000, 550000, 600000, 650000]\n",
    "}\n",
    "\n",
    "df = pd.DataFrame(data)\n",
    "print(\"Here's our dataset:\")\n",
    "display(df)"
   ]
  },
  {
   "cell_type": "code",
   "execution_count": 3,
   "id": "8d16889f",
   "metadata": {},
   "outputs": [
    {
     "name": "stdout",
     "output_type": "stream",
     "text": [
      "Dataset Shape: (10, 6)\n",
      "\n",
      "Statistical Summary:\n",
      "\n",
      "              Area   Bedrooms  Bathrooms     Floors  Location_Index  \\\n",
      "count    10.000000  10.000000  10.000000  10.000000       10.000000   \n",
      "mean   3220.000000   4.500000   3.200000   2.400000        3.400000   \n",
      "std    1538.975128   1.581139   1.316561   0.966092        1.429841   \n",
      "min    1000.000000   2.000000   1.000000   1.000000        1.000000   \n",
      "25%    1950.000000   3.250000   2.250000   2.000000        2.250000   \n",
      "50%    3250.000000   4.500000   3.000000   2.500000        3.500000   \n",
      "75%    4375.000000   5.750000   4.000000   3.000000        4.750000   \n",
      "max    5500.000000   7.000000   5.000000   4.000000        5.000000   \n",
      "\n",
      "               Price  \n",
      "count      10.000000  \n",
      "mean   423000.000000  \n",
      "std    153336.956479  \n",
      "min    200000.000000  \n",
      "25%    297500.000000  \n",
      "50%    425000.000000  \n",
      "75%    537500.000000  \n",
      "max    650000.000000  \n"
     ]
    }
   ],
   "source": [
    "# Step 3: Check Basic Info about the Dataset\n",
    "print(\"Dataset Shape:\", df.shape)\n",
    "print(\"\\nStatistical Summary:\\n\")\n",
    "print(df.describe())"
   ]
  },
  {
   "cell_type": "code",
   "execution_count": 4,
   "id": "ce77dbad",
   "metadata": {},
   "outputs": [
    {
     "name": "stdout",
     "output_type": "stream",
     "text": [
      "Features and Target separated successfully!\n"
     ]
    }
   ],
   "source": [
    "# Step 4: Define Features (X) and Target (y)\n",
    "X = df[['Area', 'Bedrooms', 'Bathrooms', 'Floors', 'Location_Index']]\n",
    "y = df['Price']\n",
    "\n",
    "print(\"Features and Target separated successfully!\")"
   ]
  },
  {
   "cell_type": "code",
   "execution_count": 5,
   "id": "0efd3bd0",
   "metadata": {},
   "outputs": [
    {
     "name": "stdout",
     "output_type": "stream",
     "text": [
      " Training samples: 7\n",
      " Testing samples: 3\n"
     ]
    }
   ],
   "source": [
    "# Step 5: Split the Dataset into Training and Testing Sets\n",
    "X_train, X_test, y_train, y_test = train_test_split(\n",
    "    X, y, test_size=0.3, random_state=42\n",
    ")\n",
    "\n",
    "print(\" Training samples:\", X_train.shape[0])\n",
    "print(\" Testing samples:\", X_test.shape[0])"
   ]
  },
  {
   "cell_type": "code",
   "execution_count": 6,
   "id": "77624377",
   "metadata": {},
   "outputs": [
    {
     "name": "stdout",
     "output_type": "stream",
     "text": [
      " Model Trained Successfully!\n",
      "\n",
      "Intercept (b): 91249.99999999983\n",
      "Coefficients (m values): [   85.22727273  9659.09090909  9886.36363636 -4772.72727273\n",
      " -1590.90909091]\n"
     ]
    }
   ],
   "source": [
    "# Step 6: Train the Linear Regression Model\n",
    "model = LinearRegression()\n",
    "model.fit(X_train, y_train)\n",
    "\n",
    "print(\" Model Trained Successfully!\")\n",
    "print(\"\\nIntercept (b):\", model.intercept_)\n",
    "print(\"Coefficients (m values):\", model.coef_)"
   ]
  },
  {
   "cell_type": "code",
   "execution_count": 8,
   "id": "b46efaed",
   "metadata": {},
   "outputs": [
    {
     "name": "stdout",
     "output_type": "stream",
     "text": [
      "Predictions vs Actual Results:\n"
     ]
    },
    {
     "data": {
      "text/html": [
       "<div>\n",
       "<style scoped>\n",
       "    .dataframe tbody tr th:only-of-type {\n",
       "        vertical-align: middle;\n",
       "    }\n",
       "\n",
       "    .dataframe tbody tr th {\n",
       "        vertical-align: top;\n",
       "    }\n",
       "\n",
       "    .dataframe thead th {\n",
       "        text-align: right;\n",
       "    }\n",
       "</style>\n",
       "<table border=\"1\" class=\"dataframe\">\n",
       "  <thead>\n",
       "    <tr style=\"text-align: right;\">\n",
       "      <th></th>\n",
       "      <th>Actual Price</th>\n",
       "      <th>Predicted Price</th>\n",
       "    </tr>\n",
       "  </thead>\n",
       "  <tbody>\n",
       "    <tr>\n",
       "      <th>8</th>\n",
       "      <td>600000</td>\n",
       "      <td>602500.000000</td>\n",
       "    </tr>\n",
       "    <tr>\n",
       "      <th>1</th>\n",
       "      <td>250000</td>\n",
       "      <td>259886.363636</td>\n",
       "    </tr>\n",
       "    <tr>\n",
       "      <th>5</th>\n",
       "      <td>450000</td>\n",
       "      <td>446818.181818</td>\n",
       "    </tr>\n",
       "  </tbody>\n",
       "</table>\n",
       "</div>"
      ],
      "text/plain": [
       "   Actual Price  Predicted Price\n",
       "8        600000    602500.000000\n",
       "1        250000    259886.363636\n",
       "5        450000    446818.181818"
      ]
     },
     "metadata": {},
     "output_type": "display_data"
    }
   ],
   "source": [
    "# Step 7: Make Predictions on the Test Set\n",
    "y_pred = model.predict(X_test)\n",
    "\n",
    "results = pd.DataFrame({\n",
    "    'Actual Price': y_test,\n",
    "    'Predicted Price': y_pred\n",
    "})\n",
    "\n",
    "print(\"Predictions vs Actual Results:\")\n",
    "display(results)"
   ]
  },
  {
   "cell_type": "code",
   "execution_count": 9,
   "id": "3fca0d70",
   "metadata": {},
   "outputs": [
    {
     "name": "stdout",
     "output_type": "stream",
     "text": [
      "Model Evaluation Metrics:\n",
      "Mean Absolute Error (MAE): 5189.39\n",
      "R² Score: 1.00\n"
     ]
    }
   ],
   "source": [
    "# Step 8: Evaluate the Model\n",
    "mae = mean_absolute_error(y_test, y_pred)\n",
    "r2 = r2_score(y_test, y_pred)\n",
    "\n",
    "print(\"Model Evaluation Metrics:\")\n",
    "print(f\"Mean Absolute Error (MAE): {mae:.2f}\")\n",
    "print(f\"R² Score: {r2:.2f}\")\n"
   ]
  },
  {
   "cell_type": "code",
   "execution_count": 13,
   "id": "b094a152",
   "metadata": {},
   "outputs": [
    {
     "data": {
      "image/png": "[encoded data removed]",
      "text/plain": [
       "<Figure size 700x600 with 1 Axes>"
      ]
     },
     "metadata": {},
     "output_type": "display_data"
    }
   ],
   "source": [
    "# Step 9: Visualize Predicted vs Actual Prices\n",
    "plt.figure(figsize=(7,6))\n",
    "plt.scatter(y_test, y_pred, color='blue', s=70, label=\"Predicted vs Actual\")\n",
    "plt.plot([y.min(), y.max()], [y.min(), y.max()], color='red', linestyle='--', label='Ideal Fit Line')\n",
    "plt.xlabel(\"Actual Price ($)\")\n",
    "plt.ylabel(\"Predicted Price ($)\")\n",
    "plt.title(\"House Price Prediction — Linear Regression\")\n",
    "plt.legend()\n",
    "plt.grid(True, alpha=0.3)\n",
    "plt.show()"
   ]
  },
  {
   "cell_type": "code",
   "execution_count": 14,
   "id": "a04f735a",
   "metadata": {},
   "outputs": [
    {
     "name": "stdout",
     "output_type": "stream",
     "text": [
      " Predicted price for the new house: $416,364\n"
     ]
    },
    {
     "name": "stderr",
     "output_type": "stream",
     "text": [
      "C:\\Users\\bhava\\AppData\\Roaming\\Python\\Python312\\site-packages\\sklearn\\utils\\validation.py:2749: UserWarning: X does not have valid feature names, but LinearRegression was fitted with feature names\n",
      "  warnings.warn(\n"
     ]
    }
   ],
   "source": [
    "# Step 10: Predict the Price for a New House\n",
    "new_house = np.array([[3200, 4, 3, 2, 4]])  # [Area, Bedrooms, Bathrooms, Floors, Location_Index]\n",
    "predicted_price = model.predict(new_house)\n",
    "print(f\" Predicted price for the new house: ${predicted_price[0]:,.0f}\")"
   ]
  },
  {
   "cell_type": "code",
   "execution_count": 16,
   "id": "b0da03ee",
   "metadata": {},
   "outputs": [
    {
     "name": "stdout",
     "output_type": "stream",
     "text": [
      "Predicted price for a small starter home: $216,364\n"
     ]
    }
   ],
   "source": [
    "# Small house in a basic location\n",
    "new_house1 = pd.DataFrame({\n",
    "    'Area': [1200],\n",
    "    'Bedrooms': [2],\n",
    "    'Bathrooms': [1],\n",
    "    'Floors': [1],\n",
    "    'Location_Index': [1]\n",
    "})\n",
    "\n",
    "pred_price1 = model.predict(new_house1)\n",
    "print(f\"Predicted price for a small starter home: ${pred_price1[0]:,.0f}\")"
   ]
  }
 ],
 "metadata": {
  "kernelspec": {
   "display_name": "Python 3",
   "language": "python",
   "name": "python3"
  },
  "language_info": {
   "codemirror_mode": {
    "name": "ipython",
    "version": 3
   },
   "file_extension": ".py",
   "mimetype": "text/x-python",
   "name": "python",
   "nbconvert_exporter": "python",
   "pygments_lexer": "ipython3",
   "version": "3.12.4"
  }
 },
 "nbformat": 4,
 "nbformat_minor": 5
}
